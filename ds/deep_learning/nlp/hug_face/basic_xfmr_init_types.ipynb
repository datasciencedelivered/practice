{
 "cells": [
  {
   "cell_type": "code",
   "execution_count": 1,
   "id": "9e2eb85f-1b11-4674-81a2-0f9d1cb3f8fa",
   "metadata": {},
   "outputs": [],
   "source": [
    "from transformers import AutoModel, AutoTokenizer"
   ]
  },
  {
   "cell_type": "markdown",
   "id": "6399fe0a-4737-4ea8-8cb3-56a8e61916fe",
   "metadata": {},
   "source": [
    "## Ways to initiate a Model\n",
    "### Using AutoModel and AutoTokenizer  # when flexibility is needed the script can load a model based on say an argument to the script\n",
    "### Use specific model such as BertModel and BertTokenizer # Specific Model Architecture: You know exactly which model architecture you need (e.g., BERT) and you want to work with its base version.\n",
    "### Customization: You plan to customize the model architecture or use it in a way not directly covered by the predefined classes (like BertForSequenceClassification)."
   ]
  },
  {
   "cell_type": "code",
   "execution_count": null,
   "id": "709feab3-a022-4110-9fc2-09f3d71b72fa",
   "metadata": {},
   "outputs": [],
   "source": [
    "# Using AutoModel and AutoTokenizer\n",
    "\n",
    "checkpoint = \"bert-base-uncased\"\n",
    "tokenizer = AutoTokenizer.from_pretrained(checkpoint)\n",
    "model = AutoModel.from_pretrained(checkpoint)"
   ]
  },
  {
   "cell_type": "code",
   "execution_count": 8,
   "id": "486ce116-76bf-488d-b1ac-039797b87241",
   "metadata": {},
   "outputs": [
    {
     "name": "stdout",
     "output_type": "stream",
     "text": [
      "[7632, 2045, 999, 2129, 2024, 2017, 1029]\n"
     ]
    }
   ],
   "source": [
    "# little bit playing with tokenizer\n",
    "\n",
    "#print(tokenizer.get_vocab())\n",
    "stmt = \"Hi there! How are you?\"\n",
    "#print(tokenizer.tokenize(stmt))\n",
    "#print(tokenizer.convert_tokens_to_ids(tokenizer.tokenize(stmt)))\n",
    "\n",
    "inputs = tokenizer(stmt, return_tensors=\"pt\")\n"
   ]
  },
  {
   "cell_type": "code",
   "execution_count": 9,
   "id": "e160f326-f62c-42f2-b4fe-6e67cf7bbdeb",
   "metadata": {},
   "outputs": [],
   "source": [
    "outputs = model(**inputs)"
   ]
  },
  {
   "cell_type": "code",
   "execution_count": null,
   "id": "ab5cea90-8bb7-426d-9850-351298efcd91",
   "metadata": {},
   "outputs": [],
   "source": [
    "print(outputs)\n",
    "#print(help(outputs))\n",
    "#print(outputs.logits)   #base model does not have this attribute for output instead use last_hidden_state\n",
    "logits = outputs.last_hidden_state\n",
    "print(logits) # logits # Since this is not a classification problem there is not further classes to be derived"
   ]
  },
  {
   "cell_type": "markdown",
   "id": "e8dd97eb-5c46-4e14-b04d-4839e7a69af9",
   "metadata": {},
   "source": [
    "### Second: With a specific model name and tokenizer"
   ]
  },
  {
   "cell_type": "code",
   "execution_count": null,
   "id": "755313fa-af5f-40d2-9a34-80ce28fa7931",
   "metadata": {},
   "outputs": [],
   "source": [
    "from transformers import BertModel, BertTokenizer\n",
    "\n",
    "model_name = \"bert-base-uncased\"\n",
    "tokenizer = BertTokenizer.from_pretrained(model_name)\n",
    "model = BertModel.from_pretrained(model_name)\n",
    "\n",
    "inputs = tokenizer(\"Hello, world!\", return_tensors=\"pt\")\n",
    "outputs = model(**inputs)\n",
    "print(outputs)"
   ]
  },
  {
   "cell_type": "markdown",
   "id": "bf8fdf38-5e34-4273-8976-f5b48e7925e1",
   "metadata": {},
   "source": [
    "## Outputs Representation:<br>\n",
    "   last_hidden_state: The hidden states at the last layer of the model for each input token.<br>\n",
    "   pooler_output (if available): A summary of the hidden states for the classification token ([CLS]).<br>\n",
    "Using the Outputs:<br>\n",
    "   Feature Extraction: Use the hidden states as features for downstream tasks (e.g., clustering, classification).<br>\n",
    "   Pooling: Aggregate the hidden states for tasks like sentence classification (mean pooling, max pooling, or using the [CLS] token).<br>\n",
    "\n",
    "## Example: Mean pooling to get sentence representation\n",
    "sentence_embedding = torch.mean(last_hidden_state, dim=1)\n",
    "\n",
    "print(sentence_embedding)   "
   ]
  },
  {
   "cell_type": "code",
   "execution_count": 17,
   "id": "1f0db58a-99dc-4915-8723-657c7b2958a8",
   "metadata": {},
   "outputs": [
    {
     "name": "stderr",
     "output_type": "stream",
     "text": [
      "Some weights of BertForSequenceClassification were not initialized from the model checkpoint at bert-base-uncased and are newly initialized: ['classifier.bias', 'classifier.weight']\n",
      "You should probably TRAIN this model on a down-stream task to be able to use it for predictions and inference.\n"
     ]
    },
    {
     "name": "stdout",
     "output_type": "stream",
     "text": [
      "tensor([[ 0.1917, -0.3931]], grad_fn=<AddmmBackward0>)\n",
      "negative\n"
     ]
    }
   ],
   "source": [
    "# Initialize model and tokenizer\n",
    "from transformers import BertForSequenceClassification, BertTokenizer\n",
    "import torch\n",
    "\n",
    "model_name = \"bert-base-uncased\"\n",
    "tokenizer = BertTokenizer.from_pretrained(model_name)\n",
    "model = BertForSequenceClassification.from_pretrained(model_name, num_labels=2)\n",
    "\n",
    "# Prepare input\n",
    "inputs = tokenizer(\"Hello, world!\", return_tensors=\"pt\")\n",
    "\n",
    "# Forward pass\n",
    "outputs = model(**inputs)\n",
    "logits = outputs.logits\n",
    "\n",
    "# Get class names (assume binary classification for simplicity)\n",
    "class_names = [\"negative\", \"positive\"]\n",
    "predicted_class = class_names[torch.argmax(logits, dim=1).item()]\n",
    "\n",
    "print(logits)\n",
    "print(predicted_class)"
   ]
  }
 ],
 "metadata": {
  "kernelspec": {
   "display_name": "Python (venv-deep-learn)",
   "language": "python",
   "name": "venv-deep-learn"
  },
  "language_info": {
   "codemirror_mode": {
    "name": "ipython",
    "version": 3
   },
   "file_extension": ".py",
   "mimetype": "text/x-python",
   "name": "python",
   "nbconvert_exporter": "python",
   "pygments_lexer": "ipython3",
   "version": "3.8.10"
  }
 },
 "nbformat": 4,
 "nbformat_minor": 5
}
