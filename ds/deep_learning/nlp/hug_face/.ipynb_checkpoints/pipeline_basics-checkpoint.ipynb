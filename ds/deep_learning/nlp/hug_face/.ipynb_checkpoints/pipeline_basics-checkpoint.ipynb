{
 "cells": [
  {
   "cell_type": "code",
   "execution_count": 2,
   "id": "90bd0ad2-9c22-49c4-b99c-e43920ee2b47",
   "metadata": {},
   "outputs": [],
   "source": [
    "from transformers import pipeline"
   ]
  },
  {
   "cell_type": "code",
   "execution_count": 3,
   "id": "8a8a90f6-2aa4-477a-aa57-b234a0e30db0",
   "metadata": {},
   "outputs": [
    {
     "name": "stderr",
     "output_type": "stream",
     "text": [
      "No model was supplied, defaulted to distilbert/distilbert-base-uncased-finetuned-sst-2-english and revision af0f99b (https://huggingface.co/distilbert/distilbert-base-uncased-finetuned-sst-2-english).\n",
      "Using a pipeline without specifying a model name and revision in production is not recommended.\n"
     ]
    },
    {
     "data": {
      "text/plain": [
       "[{'label': 'POSITIVE', 'score': 0.9998314380645752}]"
      ]
     },
     "execution_count": 3,
     "metadata": {},
     "output_type": "execute_result"
    }
   ],
   "source": [
    "classifier = pipeline(\"sentiment-analysis\")\n",
    "classifier(\"I feel very excited today!\")"
   ]
  },
  {
   "cell_type": "code",
   "execution_count": 4,
   "id": "074ec2bf-5491-4b31-8edc-7020443d09ce",
   "metadata": {},
   "outputs": [
    {
     "data": {
      "text/plain": [
       "[{'label': 'POSITIVE', 'score': 0.9907538890838623},\n",
       " {'label': 'NEGATIVE', 'score': 0.9997697472572327}]"
      ]
     },
     "execution_count": 4,
     "metadata": {},
     "output_type": "execute_result"
    }
   ],
   "source": [
    "classifier([\"Is this a positive stamement?\", \"I am sure this is not what I wanted\"])"
   ]
  },
  {
   "cell_type": "markdown",
   "id": "4f608438-cae0-43a4-a677-d698d607be26",
   "metadata": {},
   "source": [
    "There are three main steps involved when you pass some text to a pipeline:\n",
    "\n",
    "The text is preprocessed into a format the model can understand.\n",
    "The preprocessed inputs are passed to the model.\n",
    "The predictions of the model are post-processed, so you can make sense of them.\n",
    "\n",
    "feature-extraction (get the vector representation of a text)\n",
    "fill-mask\n",
    "ner (named entity recognition)\n",
    "question-answering\n",
    "sentiment-analysis\n",
    "summarization\n",
    "text-generation\n",
    "translation\n",
    "zero-shot-classification"
   ]
  },
  {
   "cell_type": "code",
   "execution_count": 5,
   "id": "440dfde1-7696-4263-bc67-a998a7970b91",
   "metadata": {},
   "outputs": [],
   "source": [
    "# This pipeline is called zero-shot because you don’t need to fine-tune the model on your data to use it. \n",
    "# It can directly return probability scores for any list of labels you want!"
   ]
  },
  {
   "cell_type": "code",
   "execution_count": 6,
   "id": "196ad378-08e8-46c4-ad40-a10aecbca6a6",
   "metadata": {},
   "outputs": [
    {
     "name": "stderr",
     "output_type": "stream",
     "text": [
      "No model was supplied, defaulted to facebook/bart-large-mnli and revision c626438 (https://huggingface.co/facebook/bart-large-mnli).\n",
      "Using a pipeline without specifying a model name and revision in production is not recommended.\n"
     ]
    },
    {
     "data": {
      "text/plain": [
       "{'sequence': 'NLP is interesting subject',\n",
       " 'labels': ['education', 'business', 'politics'],\n",
       " 'scores': [0.7015653252601624, 0.166117325425148, 0.13231731951236725]}"
      ]
     },
     "execution_count": 6,
     "metadata": {},
     "output_type": "execute_result"
    }
   ],
   "source": [
    "classifier = pipeline(\"zero-shot-classification\")\n",
    "classifier(\"NLP is interesting subject\", candidate_labels=[\"education\", \"politics\", \"business\"])"
   ]
  },
  {
   "cell_type": "code",
   "execution_count": 7,
   "id": "6f468b77-fe12-4335-9d56-754ae0ea3119",
   "metadata": {},
   "outputs": [
    {
     "ename": "SyntaxError",
     "evalue": "invalid syntax (98579825.py, line 1)",
     "output_type": "error",
     "traceback": [
      "\u001b[0;36m  Cell \u001b[0;32mIn[7], line 1\u001b[0;36m\u001b[0m\n\u001b[0;31m    Text generation\u001b[0m\n\u001b[0m         ^\u001b[0m\n\u001b[0;31mSyntaxError\u001b[0m\u001b[0;31m:\u001b[0m invalid syntax\n"
     ]
    }
   ],
   "source": [
    "#Text generation\n",
    "\"\"\"\n",
    "Now let’s see how to use a pipeline to generate some text. The main idea here is that you provide a prompt and \n",
    "the model will auto-complete it by generating the remaining text. This is similar to the predictive text feature that \n",
    "is found on many phones. Text generation involves randomness, so it’s normal if you don’t get the same results as shown \n",
    "below. \n",
    "\"\"\""
   ]
  },
  {
   "cell_type": "code",
   "execution_count": null,
   "id": "d5b9db76-5a31-4a6a-910e-26906260f64f",
   "metadata": {},
   "outputs": [],
   "source": [
    "generator = pipeline(\"text-generation\")\n",
    "generator(\"In this story, we will scare you\")"
   ]
  },
  {
   "cell_type": "code",
   "execution_count": null,
   "id": "253ce38a-8ca6-4716-9a10-a1809f33652f",
   "metadata": {},
   "outputs": [],
   "source": [
    "# selecting other model"
   ]
  },
  {
   "cell_type": "code",
   "execution_count": null,
   "id": "7c7c8f0f-4838-40d9-99ac-f09132281c76",
   "metadata": {},
   "outputs": [],
   "source": [
    "generator = pipeline(\"text-generation\", model = \"distilgpt2\")\n",
    "generator(\"In this story, we will scare you\", max_length = 30, num_return_sequences = 2)"
   ]
  },
  {
   "cell_type": "code",
   "execution_count": null,
   "id": "3419f788-ea63-44cf-aa51-6ee8e0f75cfc",
   "metadata": {},
   "outputs": [],
   "source": [
    "from transformers import pipeline\n",
    "\n",
    "unmasker = pipeline(\"fill-mask\")\n",
    "unmasker(\"This course will teach you all about <mask> models.\", top_k=2)"
   ]
  },
  {
   "cell_type": "code",
   "execution_count": null,
   "id": "0c5ab428-fe01-4ca5-9151-701076ac2af9",
   "metadata": {},
   "outputs": [],
   "source": [
    "from transformers import pipeline\n",
    "\n",
    "ner = pipeline(\"ner\", grouped_entities=True)\n",
    "ner(\"My name is Sylvain and I work at Hugging Face in Brooklyn.\")"
   ]
  },
  {
   "cell_type": "code",
   "execution_count": null,
   "id": "d69f68ba-28ea-4e4d-9b21-8b3b95f4d9dc",
   "metadata": {},
   "outputs": [],
   "source": [
    "from transformers import pipeline\n",
    "\n",
    "question_answerer = pipeline(\"question-answering\")\n",
    "question_answerer(\n",
    "    question=\"Where do I work?\",\n",
    "    context=\"My name is Sylvain and I work at Hugging Face in Brooklyn\",\n",
    ")"
   ]
  },
  {
   "cell_type": "code",
   "execution_count": null,
   "id": "4921c798-5976-4566-8fc7-e7385a5965cf",
   "metadata": {},
   "outputs": [],
   "source": [
    "from transformers import pipeline\n",
    "\n",
    "summarizer = pipeline(\"summarization\")\n",
    "summarizer(\n",
    "    \"\"\"\n",
    "    America has changed dramatically during recent years. Not only has the number of \n",
    "    graduates in traditional engineering disciplines such as mechanical, civil, \n",
    "    electrical, chemical, and aeronautical engineering declined, but in most of \n",
    "    the premier American universities engineering curricula now concentrate on \n",
    "    and encourage largely the study of engineering science. As a result, there \n",
    "    are declining offerings in engineering subjects dealing with infrastructure, \n",
    "    the environment, and related issues, and greater concentration on high \n",
    "    technology subjects, largely supporting increasingly complex scientific \n",
    "    developments. While the latter is important, it should not be at the expense \n",
    "    of more traditional engineering.\n",
    "\n",
    "    Rapidly developing economies such as China and India, as well as other \n",
    "    industrial countries in Europe and Asia, continue to encourage and advance \n",
    "    the teaching of engineering. Both China and India, respectively, graduate \n",
    "    six and eight times as many traditional engineers as does the United States. \n",
    "    Other industrial countries at minimum maintain their output, while America \n",
    "    suffers an increasingly serious decline in the number of engineering graduates \n",
    "    and a lack of well-educated engineers.\n",
    "\"\"\"\n",
    ")"
   ]
  },
  {
   "cell_type": "code",
   "execution_count": null,
   "id": "98218678-d4ed-4af7-8670-49e571618b03",
   "metadata": {},
   "outputs": [],
   "source": [
    "from transformers import pipeline\n",
    "\n",
    "translator = pipeline(\"translation\", model=\"Helsinki-NLP/opus-mt-fr-en\")\n",
    "translator(\"Ce cours est produit par Hugging Face.\")"
   ]
  }
 ],
 "metadata": {
  "kernelspec": {
   "display_name": "Python (venv-deep-learn)",
   "language": "python",
   "name": "venv-deep-learn"
  },
  "language_info": {
   "codemirror_mode": {
    "name": "ipython",
    "version": 3
   },
   "file_extension": ".py",
   "mimetype": "text/x-python",
   "name": "python",
   "nbconvert_exporter": "python",
   "pygments_lexer": "ipython3",
   "version": "3.8.10"
  }
 },
 "nbformat": 4,
 "nbformat_minor": 5
}
