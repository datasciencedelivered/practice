{
 "cells": [
  {
   "cell_type": "code",
   "execution_count": null,
   "id": "edb0378e-21e5-4a4b-8823-2bf77ce0e0da",
   "metadata": {},
   "outputs": [],
   "source": [
    "import torch\n",
    "from transformers import BertTokenizer, BertModel"
   ]
  },
  {
   "cell_type": "code",
   "execution_count": null,
   "id": "1825ee7b-23fe-4482-b4bb-a8dba782e83e",
   "metadata": {},
   "outputs": [],
   "source": [
    "# Load a pre-trained tokenizer\n",
    "tokenizer = BertTokenizer.from_pretrained('bert-base-uncased')\n",
    "\n",
    "# Example text input\n",
    "text = [\"This movie was great!\", \"I did not like the film.\"]\n",
    "\n",
    "# Tokenize the text input\n",
    "inputs = tokenizer(text, return_tensors=\"pt\", padding=True, truncation=True, max_length=50)\n",
    "input_ids = inputs['input_ids']  # Shape: [batch_size, seq_length]\n",
    "\n",
    "# Convert token IDs to embeddings using a pre-trained model\n",
    "bert_model = BertModel.from_pretrained('bert-base-uncased')\n",
    "with torch.no_grad():\n",
    "    embeddings = bert_model(input_ids).last_hidden_state  # Shape: [batch_size, seq_length, embedding_dim]"
   ]
  },
  {
   "cell_type": "code",
   "execution_count": null,
   "id": "057cf1eb-d74d-4417-97d0-0e0c5c0c2bde",
   "metadata": {},
   "outputs": [],
   "source": [
    "# Define your model class (same as during training)\n",
    "class LSTMModel(nn.Module):\n",
    "    def __init__(self, embedding_dim, hidden_dim, output_dim):\n",
    "        super(LSTMModel, self).__init__()\n",
    "        self.lstm = nn.LSTM(embedding_dim, hidden_dim, batch_first=True)\n",
    "        self.fc = nn.Linear(hidden_dim, output_dim)\n",
    "\n",
    "    def forward(self, x):\n",
    "        _, (hidden, _) = self.lstm(x)\n",
    "        out = self.fc(hidden[-1])\n",
    "        return out\n",
    "\n",
    "\n",
    "# Define the LSTM model\n",
    "embedding_dim = embeddings.size(-1)\n",
    "hidden_dim = 20  # Example hidden dimension\n",
    "output_dim = 1   # Binary classification\n",
    "model = LSTMModel(embedding_dim, hidden_dim, output_dim)\n",
    "\n",
    "# Load the trained model weights (assuming you have saved them previously)\n",
    "model.load_state_dict(torch.load('lstm_model.pth'))\n",
    "model.eval()  # Set the model to evaluation mode\n",
    "\n",
    "# Make predictions\n",
    "with torch.no_grad():  # Disable gradient calculation for inference\n",
    "    output = model(embeddings)  # Forward pass through the model\n",
    "    output = output.squeeze(1)  # Remove any extra dimensions if necessary\n",
    "    prediction = torch.sigmoid(output)  # Apply sigmoid to get probabilities\n",
    "    predicted_labels = (prediction > 0.5).float()  # Convert probabilities to binary labels\n",
    "\n",
    "print(\"Predictions:\", predicted_labels)\n"
   ]
  }
 ],
 "metadata": {
  "kernelspec": {
   "display_name": "Python (venv-deep-learn)",
   "language": "python",
   "name": "venv-deep-learn"
  },
  "language_info": {
   "codemirror_mode": {
    "name": "ipython",
    "version": 3
   },
   "file_extension": ".py",
   "mimetype": "text/x-python",
   "name": "python",
   "nbconvert_exporter": "python",
   "pygments_lexer": "ipython3",
   "version": "3.8.10"
  }
 },
 "nbformat": 4,
 "nbformat_minor": 5
}
