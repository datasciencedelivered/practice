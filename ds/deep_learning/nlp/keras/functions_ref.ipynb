{
 "cells": [
  {
   "cell_type": "markdown",
   "id": "82979b4c-9e0b-49a1-9ddc-f72e1a09c878",
   "metadata": {},
   "source": [
    "Use texts_to_matrix:\n",
    "\tWhen you want to represent text data as fixed-length numerical vectors suitable for feeding into a machine learning model.\n",
    "\tWhen you want to capture various statistics about the words in the text, such as their presence, count, TF-IDF score, or frequency.\n",
    "\tWhen the order of words is not important for the task at hand.\n",
    "\n",
    "Use texts_to_sequences:\n",
    "\tWhen you need to tokenize text data into sequences of integers, preserving the sequential order of words.\n",
    "\tWhen you're working on tasks like sequence prediction, language modeling, or any task where the order of words matters.\n",
    "\tWhen you're training models like RNNs, LSTMs, GRUs, or transformers that operate on sequential data."
   ]
  },
  {
   "cell_type": "code",
   "execution_count": null,
   "id": "e348b4cf-24d2-4c8b-8e45-5734ff5f5a5b",
   "metadata": {},
   "outputs": [],
   "source": [
    "text_to_sequences Function:\n",
    "\tInput:\n",
    "    \ttexts: This is the input text data that you want to convert to sequences. It can be a list of strings, where each string represents a piece of text.\n",
    "\tOutput:\n",
    "    \tsequences: The output of text_to_sequences is a list of lists. Each inner list corresponds to a sequence of integer indices representing the words in the corresponding input text. The indices are assigned based on the vocabulary learned by the Tokenizer.\n",
    "\n",
    "pad_sequences Function:\n",
    "\tInput:\n",
    "    \tsequences: This is the list of lists obtained from the text_to_sequences function. Each inner list represents a sequence of integer indices.\n",
    "       \tmaxlen (optional): This is an integer, the maximum length of all sequences. If provided, sequences longer than maxlen will be truncated, and sequences shorter than maxlen will be padded.\n",
    "       \tpadding (optional): String, 'pre' or 'post'. If not provided, the default is 'pre'. If 'pre', padding is added at the beginning of the sequences; if 'post', padding is added at the end.\n",
    "       \ttruncating (optional): String, 'pre' or 'post'. If not provided, the default is 'pre'. If 'pre', sequences longer than maxlen are truncated at the beginning; if 'post', sequences longer than maxlen are truncated at the end.\n",
    "       \tvalue (optional): Float or String, the padding value. If not provided, the default is 0.0.\n",
    "\tOutput:\n",
    "\tpadded_sequences: The output of pad_sequences is a 2D numpy array where each row represents a padded or truncated sequence of integer indices. The array can be directly used as input to a neural network.\t"
   ]
  }
 ],
 "metadata": {
  "kernelspec": {
   "display_name": "Python (venv-deep-learn)",
   "language": "python",
   "name": "venv-deep-learn"
  },
  "language_info": {
   "codemirror_mode": {
    "name": "ipython",
    "version": 3
   },
   "file_extension": ".py",
   "mimetype": "text/x-python",
   "name": "python",
   "nbconvert_exporter": "python",
   "pygments_lexer": "ipython3",
   "version": "3.8.10"
  }
 },
 "nbformat": 4,
 "nbformat_minor": 5
}
