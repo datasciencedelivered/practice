{
 "cells": [
  {
   "cell_type": "code",
   "execution_count": 3,
   "id": "c13d4cd3-f973-4527-be2c-b18c9c421a14",
   "metadata": {},
   "outputs": [],
   "source": [
    "import tensorflow as tf\n",
    "from tensorflow.keras.preprocessing.text import Tokenizer\n",
    "from tensorflow.keras.preprocessing.sequence import pad_sequences\n",
    "#from tensorflow.keras.preprocessing.text import texts_to_matrix\n",
    "from tensorflow.keras.models import Sequential\n",
    "from tensorflow.keras.layers import Dense, Flatten"
   ]
  },
  {
   "cell_type": "code",
   "execution_count": 4,
   "id": "c35b9ca5-8270-4255-9fd2-0a8de54bb61f",
   "metadata": {},
   "outputs": [],
   "source": [
    "# Sample text data and labels\n",
    "texts = [\n",
    "\t\"I love natural language processing.\",\n",
    "\t\"Natural language processing is fascinating.\",\n",
    "\t\"NLP is a subfield of artificial intelligence.\",\n",
    "\t\"I dislike bugs in my code.\",\n",
    "\t\"Sentiment analysis is not always easy.\"\n",
    "]\n",
    "\n",
    "labels = [1, 1, 1, 0, 0]  # 1 for positive, 0 for negative"
   ]
  },
  {
   "cell_type": "code",
   "execution_count": 6,
   "id": "44420896-15b8-496c-96e8-c94b4a754cb0",
   "metadata": {},
   "outputs": [
    {
     "name": "stdout",
     "output_type": "stream",
     "text": [
      "[[0. 0. 1. 1. 1. 1. 1. 0. 0. 0. 0. 0. 0. 0. 0. 0. 0. 0. 0. 0. 0. 0. 0. 0.]\n",
      " [0. 1. 0. 1. 1. 1. 0. 1. 0. 0. 0. 0. 0. 0. 0. 0. 0. 0. 0. 0. 0. 0. 0. 0.]\n",
      " [0. 1. 0. 0. 0. 0. 0. 0. 1. 1. 1. 1. 1. 1. 0. 0. 0. 0. 0. 0. 0. 0. 0. 0.]\n",
      " [0. 0. 1. 0. 0. 0. 0. 0. 0. 0. 0. 0. 0. 0. 1. 1. 1. 1. 1. 0. 0. 0. 0. 0.]\n",
      " [0. 1. 0. 0. 0. 0. 0. 0. 0. 0. 0. 0. 0. 0. 0. 0. 0. 0. 0. 1. 1. 1. 1. 1.]]\n"
     ]
    }
   ],
   "source": [
    "# Tokenize and convert text to matrix (binary encoding)\n",
    "tokenizer = Tokenizer()\n",
    "tokenizer.fit_on_texts(texts)\n",
    "X = tokenizer.texts_to_matrix(texts, mode='binary')\n",
    "\n",
    "#The texts_to_matrix function converts each text directly into a matrix, where each row corresponds to a text, and each \n",
    "#column represents the presence or absence of a word in the vocabulary. This is a simpler representation compared to word \n",
    "#embeddings.\n",
    "print(X)\n",
    "# Pad sequences\n",
    "X = pad_sequences(X, maxlen=X.shape[1], padding='post', truncating='post', value=0)\n",
    "\n",
    "# Convert labels to one-hot encoding\n",
    "y = tf.keras.utils.to_categorical(labels, num_classes=2)\n"
   ]
  },
  {
   "cell_type": "code",
   "execution_count": 7,
   "id": "08bdc28f-589f-42e3-aa49-d5e90a9dafa8",
   "metadata": {},
   "outputs": [
    {
     "name": "stdout",
     "output_type": "stream",
     "text": [
      "Epoch 1/10\n",
      "1/1 [==============================] - 1s 606ms/step - loss: 0.7622 - accuracy: 0.4000\n",
      "Epoch 2/10\n",
      "1/1 [==============================] - 0s 6ms/step - loss: 0.7364 - accuracy: 0.6000\n",
      "Epoch 3/10\n",
      "1/1 [==============================] - 0s 7ms/step - loss: 0.7113 - accuracy: 0.6000\n",
      "Epoch 4/10\n",
      "1/1 [==============================] - 0s 8ms/step - loss: 0.6873 - accuracy: 0.8000\n",
      "Epoch 5/10\n",
      "1/1 [==============================] - 0s 7ms/step - loss: 0.6641 - accuracy: 0.8000\n",
      "Epoch 6/10\n",
      "1/1 [==============================] - 0s 9ms/step - loss: 0.6415 - accuracy: 0.8000\n",
      "Epoch 7/10\n",
      "1/1 [==============================] - 0s 7ms/step - loss: 0.6195 - accuracy: 0.8000\n",
      "Epoch 8/10\n",
      "1/1 [==============================] - 0s 7ms/step - loss: 0.5982 - accuracy: 0.8000\n",
      "Epoch 9/10\n",
      "1/1 [==============================] - 0s 7ms/step - loss: 0.5774 - accuracy: 0.8000\n",
      "Epoch 10/10\n",
      "1/1 [==============================] - 0s 6ms/step - loss: 0.5574 - accuracy: 0.8000\n"
     ]
    },
    {
     "data": {
      "text/plain": [
       "<keras.src.callbacks.History at 0x7ff2d9517d30>"
      ]
     },
     "execution_count": 7,
     "metadata": {},
     "output_type": "execute_result"
    }
   ],
   "source": [
    "# Build a simple neural network model\n",
    "model = Sequential()\n",
    "model.add(Dense(64, input_dim=X.shape[1], activation='relu'))\n",
    "model.add(Dense(2, activation='softmax'))\n",
    "\n",
    "model.compile(optimizer='adam', loss='categorical_crossentropy', metrics=['accuracy'])\n",
    "\n",
    "# Train the model\n",
    "model.fit(X, y, epochs=10, batch_size=32)"
   ]
  },
  {
   "cell_type": "code",
   "execution_count": 9,
   "id": "cce83fff-73d1-40f6-95a4-614abf433ecf",
   "metadata": {},
   "outputs": [],
   "source": [
    "# Save the model\n",
    "model.save('models/smpl_senti_2_cls.keras')\n",
    "# Load the model\n",
    "loaded_model = tf.keras.models.load_model('models/smpl_senti_2_cls.keras')"
   ]
  },
  {
   "cell_type": "code",
   "execution_count": 11,
   "id": "5c8dd49a-dd2e-4fba-8493-b6f098c1e34a",
   "metadata": {},
   "outputs": [
    {
     "name": "stdout",
     "output_type": "stream",
     "text": [
      "1/1 [==============================] - 0s 79ms/step\n",
      "Text: I enjoy working with natural language processing. | Sentiment: Positive\n",
      "Text: This movie is terrible. | Sentiment: Negative\n"
     ]
    }
   ],
   "source": [
    "# Use the loaded model for predictions on new data\n",
    "new_texts = [\"I enjoy working with natural language processing.\", \"This movie is terrible.\"]\n",
    "\n",
    "# Convert text to matrix for new data\n",
    "new_X = tokenizer.texts_to_matrix(new_texts, mode='binary')\n",
    "\n",
    "# Pad sequences for new data\n",
    "new_X = pad_sequences(new_X, maxlen=X.shape[1], padding='post', truncating='post', value=0)\n",
    "\n",
    "# Make predictions\n",
    "predictions = loaded_model.predict(new_X)\n",
    "\n",
    "# Convert the predictions to labels (0 for negative, 1 for positive)\n",
    "predicted_labels = (predictions[:, 1] > 0.5).astype(int)\n",
    "\n",
    "# Display the results\n",
    "for text, label in zip(new_texts, predicted_labels):\n",
    "\tsentiment = \"Positive\" if label == 1 else \"Negative\"\n",
    "\tprint(f\"Text: {text} | Sentiment: {sentiment}\")"
   ]
  }
 ],
 "metadata": {
  "kernelspec": {
   "display_name": "Python (venv-deep-learn)",
   "language": "python",
   "name": "venv-deep-learn"
  },
  "language_info": {
   "codemirror_mode": {
    "name": "ipython",
    "version": 3
   },
   "file_extension": ".py",
   "mimetype": "text/x-python",
   "name": "python",
   "nbconvert_exporter": "python",
   "pygments_lexer": "ipython3",
   "version": "3.8.10"
  }
 },
 "nbformat": 4,
 "nbformat_minor": 5
}
