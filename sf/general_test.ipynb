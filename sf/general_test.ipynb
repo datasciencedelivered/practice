{
 "cells": [
  {
   "cell_type": "code",
   "execution_count": 1,
   "id": "e7f1ad39-461e-425b-b1cc-c40e66ee9292",
   "metadata": {},
   "outputs": [],
   "source": [
    "from snowflake.snowpark import Session"
   ]
  }
 ],
 "metadata": {
  "kernelspec": {
   "display_name": "Python (sf-venv)",
   "language": "python",
   "name": "sf-venv"
  },
  "language_info": {
   "codemirror_mode": {
    "name": "ipython",
    "version": 3
   },
   "file_extension": ".py",
   "mimetype": "text/x-python",
   "name": "python",
   "nbconvert_exporter": "python",
   "pygments_lexer": "ipython3",
   "version": "3.8.10"
  }
 },
 "nbformat": 4,
 "nbformat_minor": 5
}
