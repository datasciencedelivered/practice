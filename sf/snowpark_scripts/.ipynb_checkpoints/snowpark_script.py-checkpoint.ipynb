{
 "cells": [
  {
   "cell_type": "code",
   "execution_count": 18,
   "id": "47b52f61-6486-405b-bb66-c29c49458cdc",
   "metadata": {},
   "outputs": [],
   "source": [
    "from snowflake.snowpark import Session, functions as F\n",
    "from snowflake.snowpark.functions import col\n",
    "from copy import copy"
   ]
  },
  {
   "cell_type": "code",
   "execution_count": null,
   "id": "53c236e1-fa36-4418-aa9b-a9d9a020f35e",
   "metadata": {},
   "outputs": [],
   "source": [
    "\"\"\"\n",
    "# Establish session\n",
    "connection_parameters = {\n",
    "    'account': 'your_account',\n",
    "    'user': 'your_user',\n",
    "    'password': 'your_password',\n",
    "    'role': 'your_role',\n",
    "    'warehouse': 'your_warehouse',\n",
    "    'database': 'demo_db',\n",
    "    'schema': 'demo_schema'\n",
    "}\n",
    "session = Session.builder.configs(connection_parameters).create() */\n",
    "\"\"\""
   ]
  },
  {
   "cell_type": "code",
   "execution_count": 5,
   "id": "12fe9243-510e-4720-aa3b-66b95616f8f8",
   "metadata": {},
   "outputs": [],
   "source": [
    "session = Session.builder.config(\"connection_name\", \"mytest\").create()"
   ]
  },
  {
   "cell_type": "code",
   "execution_count": 10,
   "id": "8fa87af9-4355-4c7b-8b37-15c593cc89e3",
   "metadata": {},
   "outputs": [
    {
     "name": "stdout",
     "output_type": "stream",
     "text": [
      "----------------------------\n",
      "|\"REGION\"  |\"TOTAL_SALES\"  |\n",
      "----------------------------\n",
      "|North     |2000.0         |\n",
      "|South     |3000.0         |\n",
      "|East      |4000.0         |\n",
      "|West      |5000.0         |\n",
      "----------------------------\n",
      "\n"
     ]
    }
   ],
   "source": [
    "# Data Manipulation\n",
    "df = session.table(\"demo_db.demo_schema.sales\")\n",
    "result_df = df.group_by(\"region\").agg(F.sum(\"amount\").alias(\"total_sales\"))\n",
    "result_df.show()"
   ]
  },
  {
   "cell_type": "code",
   "execution_count": 14,
   "id": "a05fe7b8-6d55-4bf0-a9c4-0a59447be31a",
   "metadata": {},
   "outputs": [],
   "source": [
    "result_df = df.filter(col(\"REGION\") != \"North\")\\\n",
    "\t\t.group_by((\"Region\")).count()\\\n",
    "        #.group_by((\"Region\"), \"STATE\").count()\\\n",
    "\t\t#.write.mode(\"overwrite\").save_as_table(outputTableName)\n",
    "\t  #return outputTableName + \" table successfully written\""
   ]
  },
  {
   "cell_type": "code",
   "execution_count": 17,
   "id": "0eb16fee-285c-403b-940a-49de179fb26a",
   "metadata": {},
   "outputs": [
    {
     "name": "stdout",
     "output_type": "stream",
     "text": [
      "----------------------\n",
      "|\"REGION\"  |\"COUNT\"  |\n",
      "----------------------\n",
      "|South     |2        |\n",
      "|East      |2        |\n",
      "|West      |2        |\n",
      "----------------------\n",
      "\n"
     ]
    }
   ],
   "source": [
    "result_df.show()"
   ]
  },
  {
   "cell_type": "code",
   "execution_count": 19,
   "id": "c040f6ea-2a51-4734-8769-4451d2469ba7",
   "metadata": {},
   "outputs": [],
   "source": [
    "# Optionally, you could write the results back to a table\n",
    "result_df.write.save_as_table(\"demo_db.demo_schema.sales_summary\", mode=\"overwrite\")"
   ]
  },
  {
   "cell_type": "code",
   "execution_count": 36,
   "id": "2ab55b57-02ed-4b3e-9a4a-2b027085a584",
   "metadata": {},
   "outputs": [
    {
     "name": "stdout",
     "output_type": "stream",
     "text": [
      "root\n",
      " |-- \"REGION\": StringType(16777216) (nullable = True)\n",
      " |-- \"COUNT\": LongType() (nullable = False)\n",
      "----------------------\n",
      "|\"REGION\"  |\"COUNT\"  |\n",
      "----------------------\n",
      "|South     |2        |\n",
      "|East      |2        |\n",
      "|West      |2        |\n",
      "----------------------\n",
      "\n"
     ]
    }
   ],
   "source": [
    "# copy the DataFrame if you want to do a self-join\n",
    "from copy import copy\n",
    "result_df_copied = copy(result_df)\n",
    "#>>> df_self_joined = result_df.join(result_df_copied, (df_lhs.col(\"key\") == result_df_copied.col(\"key\")) & (df_lhs.col(\"value1\") == df_lhs_copied.col(\"value1\")))\n",
    "df_self_joined = result_df.join(result_df_copied,(result_df.col(\"region\") == result_df_copied.col(\"region\")))\\\n",
    ".select((result_df[\"Region\"]).alias(\"Region\"), (result_df_copied[\"Count\"]).alias(\"Count\"))\n",
    "df_self_joined.print_schema()\n",
    "df_self_joined.show()\n"
   ]
  },
  {
   "cell_type": "code",
   "execution_count": 44,
   "id": "6dbfb83f-5d8b-4dbb-ada0-b47c51618e81",
   "metadata": {},
   "outputs": [
    {
     "ename": "TypeError",
     "evalue": "Cannot convert a Column object into bool: please use '&' for 'and', '|' for 'or', '~' for 'not' if you're building DataFrame filter expressions. For example, use df.filter((col1 > 1) & (col2 > 2)) instead of df.filter(col1 > 1 and col2 > 2).",
     "output_type": "error",
     "traceback": [
      "\u001b[0;31m---------------------------------------------------------------------------\u001b[0m",
      "\u001b[0;31mTypeError\u001b[0m                                 Traceback (most recent call last)",
      "Cell \u001b[0;32mIn[44], line 1\u001b[0m\n\u001b[0;32m----> 1\u001b[0m result_df\u001b[38;5;241m.\u001b[39mfilter((col(\u001b[38;5;124m\"\u001b[39m\u001b[38;5;124mRegion\u001b[39m\u001b[38;5;124m\"\u001b[39m) \u001b[38;5;241m==\u001b[39m \u001b[38;5;124m\"\u001b[39m\u001b[38;5;124mNorth\u001b[39m\u001b[38;5;124m\"\u001b[39m \u001b[38;5;241m&\u001b[39m col(\u001b[38;5;124m\"\u001b[39m\u001b[38;5;124mAmount\u001b[39m\u001b[38;5;124m\"\u001b[39m) \u001b[38;5;241m>\u001b[39m \u001b[38;5;241m1000\u001b[39m))\n\u001b[1;32m      2\u001b[0m result_df\u001b[38;5;241m.\u001b[39mshow()\n",
      "File \u001b[0;32m~/practice/sf/sf-venv/lib/python3.8/site-packages/snowflake/snowpark/column.py:332\u001b[0m, in \u001b[0;36mColumn.__bool__\u001b[0;34m(self)\u001b[0m\n\u001b[1;32m    331\u001b[0m \u001b[38;5;28;01mdef\u001b[39;00m \u001b[38;5;21m__bool__\u001b[39m(\u001b[38;5;28mself\u001b[39m) \u001b[38;5;241m-\u001b[39m\u001b[38;5;241m>\u001b[39m \u001b[38;5;28mbool\u001b[39m:\n\u001b[0;32m--> 332\u001b[0m     \u001b[38;5;28;01mraise\u001b[39;00m \u001b[38;5;167;01mTypeError\u001b[39;00m(\n\u001b[1;32m    333\u001b[0m         \u001b[38;5;124m\"\u001b[39m\u001b[38;5;124mCannot convert a Column object into bool: please use \u001b[39m\u001b[38;5;124m'\u001b[39m\u001b[38;5;124m&\u001b[39m\u001b[38;5;124m'\u001b[39m\u001b[38;5;124m for \u001b[39m\u001b[38;5;124m'\u001b[39m\u001b[38;5;124mand\u001b[39m\u001b[38;5;124m'\u001b[39m\u001b[38;5;124m, \u001b[39m\u001b[38;5;124m'\u001b[39m\u001b[38;5;124m|\u001b[39m\u001b[38;5;124m'\u001b[39m\u001b[38;5;124m for \u001b[39m\u001b[38;5;124m'\u001b[39m\u001b[38;5;124mor\u001b[39m\u001b[38;5;124m'\u001b[39m\u001b[38;5;124m, \u001b[39m\u001b[38;5;124m\"\u001b[39m\n\u001b[1;32m    334\u001b[0m         \u001b[38;5;124m\"\u001b[39m\u001b[38;5;124m'\u001b[39m\u001b[38;5;124m~\u001b[39m\u001b[38;5;124m'\u001b[39m\u001b[38;5;124m for \u001b[39m\u001b[38;5;124m'\u001b[39m\u001b[38;5;124mnot\u001b[39m\u001b[38;5;124m'\u001b[39m\u001b[38;5;124m if you\u001b[39m\u001b[38;5;124m'\u001b[39m\u001b[38;5;124mre building DataFrame filter expressions. For example, use df.filter((col1 > 1) & (col2 > 2)) instead of df.filter(col1 > 1 and col2 > 2).\u001b[39m\u001b[38;5;124m\"\u001b[39m\n\u001b[1;32m    335\u001b[0m     )\n",
      "\u001b[0;31mTypeError\u001b[0m: Cannot convert a Column object into bool: please use '&' for 'and', '|' for 'or', '~' for 'not' if you're building DataFrame filter expressions. For example, use df.filter((col1 > 1) & (col2 > 2)) instead of df.filter(col1 > 1 and col2 > 2)."
     ]
    }
   ],
   "source": [
    "result_df.filter((col(\"Region\") == \"North\") & (col(\"Amount\") > 1000))\n",
    "result_df.show()"
   ]
  }
 ],
 "metadata": {
  "kernelspec": {
   "display_name": "Python (sf-venv)",
   "language": "python",
   "name": "sf-venv"
  },
  "language_info": {
   "codemirror_mode": {
    "name": "ipython",
    "version": 3
   },
   "file_extension": ".py",
   "mimetype": "text/x-python",
   "name": "python",
   "nbconvert_exporter": "python",
   "pygments_lexer": "ipython3",
   "version": "3.8.10"
  }
 },
 "nbformat": 4,
 "nbformat_minor": 5
}
